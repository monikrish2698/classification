{
 "cells": [
  {
   "cell_type": "code",
   "execution_count": 1,
   "metadata": {},
   "outputs": [
    {
     "data": {
      "application/javascript": [
       "\n",
       "            setTimeout(function() {\n",
       "                var nbb_cell_id = 1;\n",
       "                var nbb_unformatted_code = \"%load_ext nb_black\";\n",
       "                var nbb_formatted_code = \"%load_ext nb_black\";\n",
       "                var nbb_cells = Jupyter.notebook.get_cells();\n",
       "                for (var i = 0; i < nbb_cells.length; ++i) {\n",
       "                    if (nbb_cells[i].input_prompt_number == nbb_cell_id) {\n",
       "                        if (nbb_cells[i].get_text() == nbb_unformatted_code) {\n",
       "                             nbb_cells[i].set_text(nbb_formatted_code);\n",
       "                        }\n",
       "                        break;\n",
       "                    }\n",
       "                }\n",
       "            }, 500);\n",
       "            "
      ],
      "text/plain": [
       "<IPython.core.display.Javascript object>"
      ]
     },
     "metadata": {},
     "output_type": "display_data"
    }
   ],
   "source": [
    "%load_ext nb_black"
   ]
  },
  {
   "cell_type": "code",
   "execution_count": 2,
   "metadata": {},
   "outputs": [
    {
     "data": {
      "application/javascript": [
       "\n",
       "            setTimeout(function() {\n",
       "                var nbb_cell_id = 2;\n",
       "                var nbb_unformatted_code = \"%matplotlib inline\\nimport re\\nimport matplotlib\\nimport numpy as np\\nimport matplotlib.pyplot as plt\\nimport pandas as pd\\nfrom sklearn.model_selection import train_test_split\\nfrom sklearn.feature_extraction.text import TfidfVectorizer\\nfrom sklearn.naive_bayes import MultinomialNB\\nfrom sklearn.metrics import accuracy_score\\nfrom sklearn.multiclass import OneVsRestClassifier\\nfrom nltk.corpus import stopwords\\nstop_words = set(stopwords.words('english'))\\nfrom sklearn.svm import LinearSVC\\nfrom sklearn.linear_model import LogisticRegression\\nfrom sklearn.pipeline import Pipeline\\nimport seaborn as sns\";\n",
       "                var nbb_formatted_code = \"%matplotlib inline\\nimport re\\nimport matplotlib\\nimport numpy as np\\nimport matplotlib.pyplot as plt\\nimport pandas as pd\\nfrom sklearn.model_selection import train_test_split\\nfrom sklearn.feature_extraction.text import TfidfVectorizer\\nfrom sklearn.naive_bayes import MultinomialNB\\nfrom sklearn.metrics import accuracy_score\\nfrom sklearn.multiclass import OneVsRestClassifier\\nfrom nltk.corpus import stopwords\\n\\nstop_words = set(stopwords.words(\\\"english\\\"))\\nfrom sklearn.svm import LinearSVC\\nfrom sklearn.linear_model import LogisticRegression\\nfrom sklearn.pipeline import Pipeline\\nimport seaborn as sns\";\n",
       "                var nbb_cells = Jupyter.notebook.get_cells();\n",
       "                for (var i = 0; i < nbb_cells.length; ++i) {\n",
       "                    if (nbb_cells[i].input_prompt_number == nbb_cell_id) {\n",
       "                        if (nbb_cells[i].get_text() == nbb_unformatted_code) {\n",
       "                             nbb_cells[i].set_text(nbb_formatted_code);\n",
       "                        }\n",
       "                        break;\n",
       "                    }\n",
       "                }\n",
       "            }, 500);\n",
       "            "
      ],
      "text/plain": [
       "<IPython.core.display.Javascript object>"
      ]
     },
     "metadata": {},
     "output_type": "display_data"
    }
   ],
   "source": [
    "%matplotlib inline\n",
    "import re\n",
    "import matplotlib\n",
    "import numpy as np\n",
    "import matplotlib.pyplot as plt\n",
    "import pandas as pd\n",
    "from sklearn.model_selection import train_test_split\n",
    "from sklearn.feature_extraction.text import TfidfVectorizer\n",
    "from sklearn.naive_bayes import MultinomialNB\n",
    "from sklearn.metrics import accuracy_score\n",
    "from sklearn.multiclass import OneVsRestClassifier\n",
    "from nltk.corpus import stopwords\n",
    "\n",
    "stop_words = set(stopwords.words(\"english\"))\n",
    "from sklearn.svm import LinearSVC\n",
    "from sklearn.linear_model import LogisticRegression\n",
    "from sklearn.pipeline import Pipeline\n",
    "import seaborn as sns"
   ]
  },
  {
   "cell_type": "code",
   "execution_count": 3,
   "metadata": {},
   "outputs": [
    {
     "data": {
      "application/javascript": [
       "\n",
       "            setTimeout(function() {\n",
       "                var nbb_cell_id = 3;\n",
       "                var nbb_unformatted_code = \"df = pd.read_csv(\\n    r\\\"C:\\\\Users\\\\monish.krishnan\\\\Desktop\\\\Multilable classification\\\\train.csv\\\",\\n    encoding=\\\"latin1\\\",\\n)\";\n",
       "                var nbb_formatted_code = \"df = pd.read_csv(\\n    r\\\"C:\\\\Users\\\\monish.krishnan\\\\Desktop\\\\Multilable classification\\\\train.csv\\\",\\n    encoding=\\\"latin1\\\",\\n)\";\n",
       "                var nbb_cells = Jupyter.notebook.get_cells();\n",
       "                for (var i = 0; i < nbb_cells.length; ++i) {\n",
       "                    if (nbb_cells[i].input_prompt_number == nbb_cell_id) {\n",
       "                        if (nbb_cells[i].get_text() == nbb_unformatted_code) {\n",
       "                             nbb_cells[i].set_text(nbb_formatted_code);\n",
       "                        }\n",
       "                        break;\n",
       "                    }\n",
       "                }\n",
       "            }, 500);\n",
       "            "
      ],
      "text/plain": [
       "<IPython.core.display.Javascript object>"
      ]
     },
     "metadata": {},
     "output_type": "display_data"
    }
   ],
   "source": [
    "df = pd.read_csv(\n",
    "    r\"C:\\Users\\monish.krishnan\\Desktop\\Multilable classification\\train.csv\",\n",
    "    encoding=\"latin1\",\n",
    ")"
   ]
  },
  {
   "cell_type": "code",
   "execution_count": 4,
   "metadata": {},
   "outputs": [
    {
     "data": {
      "application/javascript": [
       "\n",
       "            setTimeout(function() {\n",
       "                var nbb_cell_id = 4;\n",
       "                var nbb_unformatted_code = \"df2 = df.drop([\\\"id\\\", \\\"comment_text\\\"], axis=1)\\ncounts = []\";\n",
       "                var nbb_formatted_code = \"df2 = df.drop([\\\"id\\\", \\\"comment_text\\\"], axis=1)\\ncounts = []\";\n",
       "                var nbb_cells = Jupyter.notebook.get_cells();\n",
       "                for (var i = 0; i < nbb_cells.length; ++i) {\n",
       "                    if (nbb_cells[i].input_prompt_number == nbb_cell_id) {\n",
       "                        if (nbb_cells[i].get_text() == nbb_unformatted_code) {\n",
       "                             nbb_cells[i].set_text(nbb_formatted_code);\n",
       "                        }\n",
       "                        break;\n",
       "                    }\n",
       "                }\n",
       "            }, 500);\n",
       "            "
      ],
      "text/plain": [
       "<IPython.core.display.Javascript object>"
      ]
     },
     "metadata": {},
     "output_type": "display_data"
    }
   ],
   "source": [
    "df2 = df.drop([\"id\", \"comment_text\"], axis=1)\n",
    "counts = []"
   ]
  },
  {
   "cell_type": "code",
   "execution_count": 5,
   "metadata": {},
   "outputs": [
    {
     "data": {
      "application/javascript": [
       "\n",
       "            setTimeout(function() {\n",
       "                var nbb_cell_id = 5;\n",
       "                var nbb_unformatted_code = \"categories = list(df2.columns.values)\\nfor i in categories:\\n    counts.append((i, df2[i].sum()))\\ndf3 = pd.DataFrame(counts, columns=[\\\"category\\\", \\\"count\\\"])\";\n",
       "                var nbb_formatted_code = \"categories = list(df2.columns.values)\\nfor i in categories:\\n    counts.append((i, df2[i].sum()))\\ndf3 = pd.DataFrame(counts, columns=[\\\"category\\\", \\\"count\\\"])\";\n",
       "                var nbb_cells = Jupyter.notebook.get_cells();\n",
       "                for (var i = 0; i < nbb_cells.length; ++i) {\n",
       "                    if (nbb_cells[i].input_prompt_number == nbb_cell_id) {\n",
       "                        if (nbb_cells[i].get_text() == nbb_unformatted_code) {\n",
       "                             nbb_cells[i].set_text(nbb_formatted_code);\n",
       "                        }\n",
       "                        break;\n",
       "                    }\n",
       "                }\n",
       "            }, 500);\n",
       "            "
      ],
      "text/plain": [
       "<IPython.core.display.Javascript object>"
      ]
     },
     "metadata": {},
     "output_type": "display_data"
    }
   ],
   "source": [
    "categories = list(df2.columns.values)\n",
    "for i in categories:\n",
    "    counts.append((i, df2[i].sum()))\n",
    "df3 = pd.DataFrame(counts, columns=[\"category\", \"count\"])"
   ]
  },
  {
   "cell_type": "code",
   "execution_count": 9,
   "metadata": {},
   "outputs": [
    {
     "data": {
      "text/html": [
       "<div>\n",
       "<style scoped>\n",
       "    .dataframe tbody tr th:only-of-type {\n",
       "        vertical-align: middle;\n",
       "    }\n",
       "\n",
       "    .dataframe tbody tr th {\n",
       "        vertical-align: top;\n",
       "    }\n",
       "\n",
       "    .dataframe thead th {\n",
       "        text-align: right;\n",
       "    }\n",
       "</style>\n",
       "<table border=\"1\" class=\"dataframe\">\n",
       "  <thead>\n",
       "    <tr style=\"text-align: right;\">\n",
       "      <th></th>\n",
       "      <th>category</th>\n",
       "      <th>count</th>\n",
       "    </tr>\n",
       "  </thead>\n",
       "  <tbody>\n",
       "    <tr>\n",
       "      <th>0</th>\n",
       "      <td>toxic</td>\n",
       "      <td>15294</td>\n",
       "    </tr>\n",
       "    <tr>\n",
       "      <th>1</th>\n",
       "      <td>severe_toxic</td>\n",
       "      <td>1595</td>\n",
       "    </tr>\n",
       "    <tr>\n",
       "      <th>2</th>\n",
       "      <td>obscene</td>\n",
       "      <td>8449</td>\n",
       "    </tr>\n",
       "    <tr>\n",
       "      <th>3</th>\n",
       "      <td>threat</td>\n",
       "      <td>478</td>\n",
       "    </tr>\n",
       "    <tr>\n",
       "      <th>4</th>\n",
       "      <td>insult</td>\n",
       "      <td>7877</td>\n",
       "    </tr>\n",
       "    <tr>\n",
       "      <th>5</th>\n",
       "      <td>identity_hate</td>\n",
       "      <td>1405</td>\n",
       "    </tr>\n",
       "  </tbody>\n",
       "</table>\n",
       "</div>"
      ],
      "text/plain": [
       "        category  count\n",
       "0          toxic  15294\n",
       "1   severe_toxic   1595\n",
       "2        obscene   8449\n",
       "3         threat    478\n",
       "4         insult   7877\n",
       "5  identity_hate   1405"
      ]
     },
     "execution_count": 9,
     "metadata": {},
     "output_type": "execute_result"
    },
    {
     "data": {
      "application/javascript": [
       "\n",
       "            setTimeout(function() {\n",
       "                var nbb_cell_id = 9;\n",
       "                var nbb_unformatted_code = \"df3\";\n",
       "                var nbb_formatted_code = \"df3\";\n",
       "                var nbb_cells = Jupyter.notebook.get_cells();\n",
       "                for (var i = 0; i < nbb_cells.length; ++i) {\n",
       "                    if (nbb_cells[i].input_prompt_number == nbb_cell_id) {\n",
       "                        if (nbb_cells[i].get_text() == nbb_unformatted_code) {\n",
       "                             nbb_cells[i].set_text(nbb_formatted_code);\n",
       "                        }\n",
       "                        break;\n",
       "                    }\n",
       "                }\n",
       "            }, 500);\n",
       "            "
      ],
      "text/plain": [
       "<IPython.core.display.Javascript object>"
      ]
     },
     "metadata": {},
     "output_type": "display_data"
    }
   ],
   "source": [
    "df3"
   ]
  },
  {
   "cell_type": "code",
   "execution_count": 6,
   "metadata": {
    "scrolled": true
   },
   "outputs": [
    {
     "data": {
      "text/plain": [
       "Text(0.5, 0, 'category')"
      ]
     },
     "execution_count": 6,
     "metadata": {},
     "output_type": "execute_result"
    },
    {
     "data": {
      "image/png": "[encoded data removed]",
      "text/plain": [
       "<Figure size 576x360 with 1 Axes>"
      ]
     },
     "metadata": {
      "needs_background": "light"
     },
     "output_type": "display_data"
    },
    {
     "data": {
      "application/javascript": [
       "\n",
       "            setTimeout(function() {\n",
       "                var nbb_cell_id = 6;\n",
       "                var nbb_unformatted_code = \"df3.plot(x=\\\"category\\\", y=\\\"count\\\", kind=\\\"bar\\\", legend=False, grid=True, figsize=(8, 5))\\nplt.title(\\\"Bar Chart\\\")\\nplt.ylabel(\\\"# of occurences\\\", fontsize=12)\\nplt.xlabel(\\\"category\\\", fontsize=12)\";\n",
       "                var nbb_formatted_code = \"df3.plot(x=\\\"category\\\", y=\\\"count\\\", kind=\\\"bar\\\", legend=False, grid=True, figsize=(8, 5))\\nplt.title(\\\"Bar Chart\\\")\\nplt.ylabel(\\\"# of occurences\\\", fontsize=12)\\nplt.xlabel(\\\"category\\\", fontsize=12)\";\n",
       "                var nbb_cells = Jupyter.notebook.get_cells();\n",
       "                for (var i = 0; i < nbb_cells.length; ++i) {\n",
       "                    if (nbb_cells[i].input_prompt_number == nbb_cell_id) {\n",
       "                        if (nbb_cells[i].get_text() == nbb_unformatted_code) {\n",
       "                             nbb_cells[i].set_text(nbb_formatted_code);\n",
       "                        }\n",
       "                        break;\n",
       "                    }\n",
       "                }\n",
       "            }, 500);\n",
       "            "
      ],
      "text/plain": [
       "<IPython.core.display.Javascript object>"
      ]
     },
     "metadata": {},
     "output_type": "display_data"
    }
   ],
   "source": [
    "df3.plot(x=\"category\", y=\"count\", kind=\"bar\", legend=False, grid=True, figsize=(8, 5))\n",
    "plt.title(\"Bar Chart\")\n",
    "plt.ylabel(\"# of occurences\", fontsize=12)\n",
    "plt.xlabel(\"category\", fontsize=12)"
   ]
  },
  {
   "cell_type": "code",
   "execution_count": 7,
   "metadata": {
    "scrolled": true
   },
   "outputs": [
    {
     "data": {
      "application/javascript": [
       "\n",
       "            setTimeout(function() {\n",
       "                var nbb_cell_id = 7;\n",
       "                var nbb_unformatted_code = \"rowsum = df.iloc[:, 2:].sum(axis=1)\\nx = rowsum.value_counts()\";\n",
       "                var nbb_formatted_code = \"rowsum = df.iloc[:, 2:].sum(axis=1)\\nx = rowsum.value_counts()\";\n",
       "                var nbb_cells = Jupyter.notebook.get_cells();\n",
       "                for (var i = 0; i < nbb_cells.length; ++i) {\n",
       "                    if (nbb_cells[i].input_prompt_number == nbb_cell_id) {\n",
       "                        if (nbb_cells[i].get_text() == nbb_unformatted_code) {\n",
       "                             nbb_cells[i].set_text(nbb_formatted_code);\n",
       "                        }\n",
       "                        break;\n",
       "                    }\n",
       "                }\n",
       "            }, 500);\n",
       "            "
      ],
      "text/plain": [
       "<IPython.core.display.Javascript object>"
      ]
     },
     "metadata": {},
     "output_type": "display_data"
    }
   ],
   "source": [
    "rowsum = df.iloc[:, 2:].sum(axis=1)\n",
    "x = rowsum.value_counts()"
   ]
  },
  {
   "cell_type": "code",
   "execution_count": 9,
   "metadata": {
    "scrolled": true
   },
   "outputs": [
    {
     "data": {
      "text/plain": [
       "Text(0, 0.5, '# of occurrences')"
      ]
     },
     "execution_count": 9,
     "metadata": {},
     "output_type": "execute_result"
    },
    {
     "data": {
      "image/png": "[encoded data removed]",
      "text/plain": [
       "<Figure size 576x576 with 1 Axes>"
      ]
     },
     "metadata": {
      "needs_background": "light"
     },
     "output_type": "display_data"
    },
    {
     "data": {
      "application/javascript": [
       "\n",
       "            setTimeout(function() {\n",
       "                var nbb_cell_id = 9;\n",
       "                var nbb_unformatted_code = \"plt.figure(figsize=(8, 8))\\nax = sns.barplot(x.index, x.values)\\nplt.title(\\\"Multiple Categories per comment\\\")\\nplt.xlabel(\\\"# of categories\\\", fontsize=12)\\nplt.ylabel(\\\"# of occurrences\\\", fontsize=12)\";\n",
       "                var nbb_formatted_code = \"plt.figure(figsize=(8, 8))\\nax = sns.barplot(x.index, x.values)\\nplt.title(\\\"Multiple Categories per comment\\\")\\nplt.xlabel(\\\"# of categories\\\", fontsize=12)\\nplt.ylabel(\\\"# of occurrences\\\", fontsize=12)\";\n",
       "                var nbb_cells = Jupyter.notebook.get_cells();\n",
       "                for (var i = 0; i < nbb_cells.length; ++i) {\n",
       "                    if (nbb_cells[i].input_prompt_number == nbb_cell_id) {\n",
       "                        if (nbb_cells[i].get_text() == nbb_unformatted_code) {\n",
       "                             nbb_cells[i].set_text(nbb_formatted_code);\n",
       "                        }\n",
       "                        break;\n",
       "                    }\n",
       "                }\n",
       "            }, 500);\n",
       "            "
      ],
      "text/plain": [
       "<IPython.core.display.Javascript object>"
      ]
     },
     "metadata": {},
     "output_type": "display_data"
    }
   ],
   "source": [
    "plt.figure(figsize=(8, 8))\n",
    "ax = sns.barplot(x.index, x.values)\n",
    "plt.title(\"Multiple Categories per comment\")\n",
    "plt.xlabel(\"# of categories\", fontsize=12)\n",
    "plt.ylabel(\"# of occurrences\", fontsize=12)"
   ]
  },
  {
   "cell_type": "code",
   "execution_count": 11,
   "metadata": {},
   "outputs": [
    {
     "name": "stdout",
     "output_type": "stream",
     "text": [
      "Percentage of comments that are not labled\n",
      "89.83211235124176\n"
     ]
    },
    {
     "data": {
      "application/javascript": [
       "\n",
       "            setTimeout(function() {\n",
       "                var nbb_cell_id = 11;\n",
       "                var nbb_unformatted_code = \"print(\\\"Percentage of comments that are not labled\\\")\\nprint((x[0] / len(df))*100)\";\n",
       "                var nbb_formatted_code = \"print(\\\"Percentage of comments that are not labled\\\")\\nprint((x[0] / len(df)) * 100)\";\n",
       "                var nbb_cells = Jupyter.notebook.get_cells();\n",
       "                for (var i = 0; i < nbb_cells.length; ++i) {\n",
       "                    if (nbb_cells[i].input_prompt_number == nbb_cell_id) {\n",
       "                        if (nbb_cells[i].get_text() == nbb_unformatted_code) {\n",
       "                             nbb_cells[i].set_text(nbb_formatted_code);\n",
       "                        }\n",
       "                        break;\n",
       "                    }\n",
       "                }\n",
       "            }, 500);\n",
       "            "
      ],
      "text/plain": [
       "<IPython.core.display.Javascript object>"
      ]
     },
     "metadata": {},
     "output_type": "display_data"
    }
   ],
   "source": [
    "print(\"Percentage of comments that are not labled\")\n",
    "print((x[0] / len(df)) * 100)"
   ]
  },
  {
   "cell_type": "code",
   "execution_count": 12,
   "metadata": {},
   "outputs": [
    {
     "data": {
      "text/plain": [
       "<matplotlib.axes._subplots.AxesSubplot at 0x2232da16898>"
      ]
     },
     "execution_count": 12,
     "metadata": {},
     "output_type": "execute_result"
    },
    {
     "data": {
      "image/png": "[encoded data removed]",
      "text/plain": [
       "<Figure size 432x288 with 1 Axes>"
      ]
     },
     "metadata": {
      "needs_background": "light"
     },
     "output_type": "display_data"
    },
    {
     "data": {
      "application/javascript": [
       "\n",
       "            setTimeout(function() {\n",
       "                var nbb_cell_id = 12;\n",
       "                var nbb_unformatted_code = \"lens = df.comment_text.str.len()\\nlens.hist(bins=np.arange(0, 5000, 50))\";\n",
       "                var nbb_formatted_code = \"lens = df.comment_text.str.len()\\nlens.hist(bins=np.arange(0, 5000, 50))\";\n",
       "                var nbb_cells = Jupyter.notebook.get_cells();\n",
       "                for (var i = 0; i < nbb_cells.length; ++i) {\n",
       "                    if (nbb_cells[i].input_prompt_number == nbb_cell_id) {\n",
       "                        if (nbb_cells[i].get_text() == nbb_unformatted_code) {\n",
       "                             nbb_cells[i].set_text(nbb_formatted_code);\n",
       "                        }\n",
       "                        break;\n",
       "                    }\n",
       "                }\n",
       "            }, 500);\n",
       "            "
      ],
      "text/plain": [
       "<IPython.core.display.Javascript object>"
      ]
     },
     "metadata": {},
     "output_type": "display_data"
    }
   ],
   "source": [
    "lens = df.comment_text.str.len()\n",
    "lens.hist(bins=np.arange(0, 5000, 50))"
   ]
  },
  {
   "cell_type": "code",
   "execution_count": 13,
   "metadata": {},
   "outputs": [
    {
     "data": {
      "application/javascript": [
       "\n",
       "            setTimeout(function() {\n",
       "                var nbb_cell_id = 13;\n",
       "                var nbb_unformatted_code = \"# function to clean the text\\ndef clean_text(text):\\n    text = text.lower()\\n    text = re.sub(r\\\"what's\\\", \\\"what is \\\", text)\\n    text = re.sub(r\\\"\\\\'s\\\", \\\" \\\", text)\\n    text = re.sub(r\\\"\\\\'ve\\\", \\\" have \\\", text)\\n    text = re.sub(r\\\"can't\\\", \\\"can not \\\", text)\\n    text = re.sub(r\\\"n't\\\", \\\" not \\\", text)\\n    text = re.sub(r\\\"i'm\\\", \\\"i am \\\", text)\\n    text = re.sub(r\\\"\\\\'re\\\", \\\" are \\\", text)\\n    text = re.sub(r\\\"\\\\'d\\\", \\\" would \\\", text)\\n    text = re.sub(r\\\"\\\\'ll\\\", \\\" will \\\", text)\\n    text = re.sub(r\\\"\\\\'scuse\\\", \\\" excuse \\\", text)\\n    text = re.sub(\\\"\\\\W\\\", \\\" \\\", text)\\n    text = re.sub(\\\"\\\\s+\\\", \\\" \\\", text)\\n    text = text.strip(\\\" \\\")\\n    return text\";\n",
       "                var nbb_formatted_code = \"# function to clean the text\\ndef clean_text(text):\\n    text = text.lower()\\n    text = re.sub(r\\\"what's\\\", \\\"what is \\\", text)\\n    text = re.sub(r\\\"\\\\'s\\\", \\\" \\\", text)\\n    text = re.sub(r\\\"\\\\'ve\\\", \\\" have \\\", text)\\n    text = re.sub(r\\\"can't\\\", \\\"can not \\\", text)\\n    text = re.sub(r\\\"n't\\\", \\\" not \\\", text)\\n    text = re.sub(r\\\"i'm\\\", \\\"i am \\\", text)\\n    text = re.sub(r\\\"\\\\'re\\\", \\\" are \\\", text)\\n    text = re.sub(r\\\"\\\\'d\\\", \\\" would \\\", text)\\n    text = re.sub(r\\\"\\\\'ll\\\", \\\" will \\\", text)\\n    text = re.sub(r\\\"\\\\'scuse\\\", \\\" excuse \\\", text)\\n    text = re.sub(\\\"\\\\W\\\", \\\" \\\", text)\\n    text = re.sub(\\\"\\\\s+\\\", \\\" \\\", text)\\n    text = text.strip(\\\" \\\")\\n    return text\";\n",
       "                var nbb_cells = Jupyter.notebook.get_cells();\n",
       "                for (var i = 0; i < nbb_cells.length; ++i) {\n",
       "                    if (nbb_cells[i].input_prompt_number == nbb_cell_id) {\n",
       "                        if (nbb_cells[i].get_text() == nbb_unformatted_code) {\n",
       "                             nbb_cells[i].set_text(nbb_formatted_code);\n",
       "                        }\n",
       "                        break;\n",
       "                    }\n",
       "                }\n",
       "            }, 500);\n",
       "            "
      ],
      "text/plain": [
       "<IPython.core.display.Javascript object>"
      ]
     },
     "metadata": {},
     "output_type": "display_data"
    }
   ],
   "source": [
    "# function to clean the text\n",
    "def clean_text(text):\n",
    "    text = text.lower()\n",
    "    text = re.sub(r\"what's\", \"what is \", text)\n",
    "    text = re.sub(r\"\\'s\", \" \", text)\n",
    "    text = re.sub(r\"\\'ve\", \" have \", text)\n",
    "    text = re.sub(r\"can't\", \"can not \", text)\n",
    "    text = re.sub(r\"n't\", \" not \", text)\n",
    "    text = re.sub(r\"i'm\", \"i am \", text)\n",
    "    text = re.sub(r\"\\'re\", \" are \", text)\n",
    "    text = re.sub(r\"\\'d\", \" would \", text)\n",
    "    text = re.sub(r\"\\'ll\", \" will \", text)\n",
    "    text = re.sub(r\"\\'scuse\", \" excuse \", text)\n",
    "    text = re.sub(\"\\W\", \" \", text)\n",
    "    text = re.sub(\"\\s+\", \" \", text)\n",
    "    text = text.strip(\" \")\n",
    "    return text"
   ]
  },
  {
   "cell_type": "code",
   "execution_count": 14,
   "metadata": {},
   "outputs": [
    {
     "data": {
      "application/javascript": [
       "\n",
       "            setTimeout(function() {\n",
       "                var nbb_cell_id = 14;\n",
       "                var nbb_unformatted_code = \"df[\\\"comment_text\\\"] = df[\\\"comment_text\\\"].map(lambda com: clean_text(com))\";\n",
       "                var nbb_formatted_code = \"df[\\\"comment_text\\\"] = df[\\\"comment_text\\\"].map(lambda com: clean_text(com))\";\n",
       "                var nbb_cells = Jupyter.notebook.get_cells();\n",
       "                for (var i = 0; i < nbb_cells.length; ++i) {\n",
       "                    if (nbb_cells[i].input_prompt_number == nbb_cell_id) {\n",
       "                        if (nbb_cells[i].get_text() == nbb_unformatted_code) {\n",
       "                             nbb_cells[i].set_text(nbb_formatted_code);\n",
       "                        }\n",
       "                        break;\n",
       "                    }\n",
       "                }\n",
       "            }, 500);\n",
       "            "
      ],
      "text/plain": [
       "<IPython.core.display.Javascript object>"
      ]
     },
     "metadata": {},
     "output_type": "display_data"
    }
   ],
   "source": [
    "df[\"comment_text\"] = df[\"comment_text\"].map(lambda com: clean_text(com))"
   ]
  },
  {
   "cell_type": "code",
   "execution_count": 15,
   "metadata": {
    "scrolled": true
   },
   "outputs": [
    {
     "data": {
      "text/plain": [
       "0         explanation why the edits made under my userna...\n",
       "1         d aww he matches this background colour i am s...\n",
       "2         hey man i am really not trying to edit war it ...\n",
       "3         more i can not make any real suggestions on im...\n",
       "4         you sir are my hero any chance you remember wh...\n",
       "5         congratulations from me as well use the tools ...\n",
       "6              cocksucker before you piss around on my work\n",
       "7         your vandalism to the matt shirvington article...\n",
       "8         sorry if the word nonsense was offensive to yo...\n",
       "9         alignment on this subject and which are contra...\n",
       "10        fair use rationale for image wonju jpg thanks ...\n",
       "11        bbq be a man and lets discuss it maybe over th...\n",
       "12        hey what is it talk what is it an exclusive gr...\n",
       "13        before you start throwing accusations and warn...\n",
       "14        oh and the girl above started her arguments wi...\n",
       "15        juelz santanas age in 2002 juelz santana was 1...\n",
       "16        bye do not look come or think of comming back ...\n",
       "17          redirect talk voydan pop georgiev chernodrinski\n",
       "18        the mitsurugi point made no sense why not argu...\n",
       "19        do not mean to bother you i see that you are w...\n",
       "20        regarding your recent edits once again please ...\n",
       "21        good to know about me yeah i am studying now d...\n",
       "22        snowflakes are not always symmetrical under ge...\n",
       "23        the signpost 24 september 2012 read this signp...\n",
       "24        re considering 1st paragraph edit i do not und...\n",
       "25        radial symmetry several now extinct lineages i...\n",
       "26        there no need to apologize a wikipedia article...\n",
       "27        yes because the mother of the child in the cas...\n",
       "28        ok but it will take a bit of work but i can no...\n",
       "29        a barnstar for you the real life barnstar lets...\n",
       "                                ...                        \n",
       "159541    your absurd edits your absurd edits on great w...\n",
       "159542    maybe he got better things to do than spend al...\n",
       "159543    scrap that it does meet criteria and its gone ...\n",
       "159544                                   you could do worse\n",
       "159545    7 march 2011 utc are you also user bmattson wh...\n",
       "159546    hey listen do not you ever delete my edits eve...\n",
       "159547                         thank you very very much â â\n",
       "159548                           talkback 15 september 2012\n",
       "159549                                2005 utc 06 35 31 mar\n",
       "159550    i agree on another note lil wayne is a talentl...\n",
       "159551    while about half the references are from byu i...\n",
       "159552    prague spring i think that prague spring deser...\n",
       "159553    i see this as having been merged undoing one s...\n",
       "159554    and i am going to keep posting the stuff u del...\n",
       "159555    how come when you download that mp3 it titled ...\n",
       "159556    i will be on irc too if you have a more specif...\n",
       "159557    it is my opinion that that happens to be off t...\n",
       "159558    please stop removing content from wikipedia it...\n",
       "159559    image barack obama mother jpg listed for delet...\n",
       "159560    editing of article without consensus removal o...\n",
       "159561    no he did not read it again i would have thoug...\n",
       "159562    auto guides and the motoring press are not goo...\n",
       "159563    please identify what part of blp applies becau...\n",
       "159564    catalan independentism is the social movement ...\n",
       "159565    the numbers in parentheses are the additional ...\n",
       "159566    and for the second time of asking when your vi...\n",
       "159567    you should be ashamed of yourself that is a ho...\n",
       "159568    spitzer umm theres no actual article for prost...\n",
       "159569    and it looks like it was actually you who put ...\n",
       "159570    and i really do not think you understand i cam...\n",
       "Name: comment_text, Length: 159571, dtype: object"
      ]
     },
     "execution_count": 15,
     "metadata": {},
     "output_type": "execute_result"
    },
    {
     "data": {
      "application/javascript": [
       "\n",
       "            setTimeout(function() {\n",
       "                var nbb_cell_id = 15;\n",
       "                var nbb_unformatted_code = \"df[\\\"comment_text\\\"]\";\n",
       "                var nbb_formatted_code = \"df[\\\"comment_text\\\"]\";\n",
       "                var nbb_cells = Jupyter.notebook.get_cells();\n",
       "                for (var i = 0; i < nbb_cells.length; ++i) {\n",
       "                    if (nbb_cells[i].input_prompt_number == nbb_cell_id) {\n",
       "                        if (nbb_cells[i].get_text() == nbb_unformatted_code) {\n",
       "                             nbb_cells[i].set_text(nbb_formatted_code);\n",
       "                        }\n",
       "                        break;\n",
       "                    }\n",
       "                }\n",
       "            }, 500);\n",
       "            "
      ],
      "text/plain": [
       "<IPython.core.display.Javascript object>"
      ]
     },
     "metadata": {},
     "output_type": "display_data"
    }
   ],
   "source": [
    "df[\"comment_text\"]"
   ]
  },
  {
   "cell_type": "code",
   "execution_count": 16,
   "metadata": {},
   "outputs": [
    {
     "data": {
      "application/javascript": [
       "\n",
       "            setTimeout(function() {\n",
       "                var nbb_cell_id = 16;\n",
       "                var nbb_unformatted_code = \"categories = [\\\"toxic\\\", \\\"severe_toxic\\\", \\\"obscene\\\", \\\"threat\\\", \\\"insult\\\", \\\"identity_hate\\\"]\";\n",
       "                var nbb_formatted_code = \"categories = [\\\"toxic\\\", \\\"severe_toxic\\\", \\\"obscene\\\", \\\"threat\\\", \\\"insult\\\", \\\"identity_hate\\\"]\";\n",
       "                var nbb_cells = Jupyter.notebook.get_cells();\n",
       "                for (var i = 0; i < nbb_cells.length; ++i) {\n",
       "                    if (nbb_cells[i].input_prompt_number == nbb_cell_id) {\n",
       "                        if (nbb_cells[i].get_text() == nbb_unformatted_code) {\n",
       "                             nbb_cells[i].set_text(nbb_formatted_code);\n",
       "                        }\n",
       "                        break;\n",
       "                    }\n",
       "                }\n",
       "            }, 500);\n",
       "            "
      ],
      "text/plain": [
       "<IPython.core.display.Javascript object>"
      ]
     },
     "metadata": {},
     "output_type": "display_data"
    }
   ],
   "source": [
    "categories = [\"toxic\", \"severe_toxic\", \"obscene\", \"threat\", \"insult\", \"identity_hate\"]"
   ]
  },
  {
   "cell_type": "code",
   "execution_count": 17,
   "metadata": {},
   "outputs": [
    {
     "name": "stdout",
     "output_type": "stream",
     "text": [
      "(106912,)\n",
      "(52659,)\n"
     ]
    },
    {
     "data": {
      "application/javascript": [
       "\n",
       "            setTimeout(function() {\n",
       "                var nbb_cell_id = 17;\n",
       "                var nbb_unformatted_code = \"train, test = train_test_split(df, random_state=42, test_size=0.33, shuffle=True)\\nX_train = train.comment_text\\nX_test = test.comment_text\\nprint(X_train.shape)\\nprint(X_test.shape)\";\n",
       "                var nbb_formatted_code = \"train, test = train_test_split(df, random_state=42, test_size=0.33, shuffle=True)\\nX_train = train.comment_text\\nX_test = test.comment_text\\nprint(X_train.shape)\\nprint(X_test.shape)\";\n",
       "                var nbb_cells = Jupyter.notebook.get_cells();\n",
       "                for (var i = 0; i < nbb_cells.length; ++i) {\n",
       "                    if (nbb_cells[i].input_prompt_number == nbb_cell_id) {\n",
       "                        if (nbb_cells[i].get_text() == nbb_unformatted_code) {\n",
       "                             nbb_cells[i].set_text(nbb_formatted_code);\n",
       "                        }\n",
       "                        break;\n",
       "                    }\n",
       "                }\n",
       "            }, 500);\n",
       "            "
      ],
      "text/plain": [
       "<IPython.core.display.Javascript object>"
      ]
     },
     "metadata": {},
     "output_type": "display_data"
    }
   ],
   "source": [
    "train, test = train_test_split(df, random_state=42, test_size=0.33, shuffle=True)\n",
    "X_train = train.comment_text\n",
    "X_test = test.comment_text\n",
    "print(X_train.shape)\n",
    "print(X_test.shape)"
   ]
  },
  {
   "cell_type": "code",
   "execution_count": 18,
   "metadata": {},
   "outputs": [
    {
     "data": {
      "application/javascript": [
       "\n",
       "            setTimeout(function() {\n",
       "                var nbb_cell_id = 18;\n",
       "                var nbb_unformatted_code = \"NB_pipeline = Pipeline([\\n    ('tfidf', TfidfVectorizer(stop_words=stop_words)),\\n    ('clf', OneVsRestClassifier(MultinomialNB(\\n    fit_prior=True, class_prior=None)))\\n])\";\n",
       "                var nbb_formatted_code = \"NB_pipeline = Pipeline(\\n    [\\n        (\\\"tfidf\\\", TfidfVectorizer(stop_words=stop_words)),\\n        (\\\"clf\\\", OneVsRestClassifier(MultinomialNB(fit_prior=True, class_prior=None))),\\n    ]\\n)\";\n",
       "                var nbb_cells = Jupyter.notebook.get_cells();\n",
       "                for (var i = 0; i < nbb_cells.length; ++i) {\n",
       "                    if (nbb_cells[i].input_prompt_number == nbb_cell_id) {\n",
       "                        if (nbb_cells[i].get_text() == nbb_unformatted_code) {\n",
       "                             nbb_cells[i].set_text(nbb_formatted_code);\n",
       "                        }\n",
       "                        break;\n",
       "                    }\n",
       "                }\n",
       "            }, 500);\n",
       "            "
      ],
      "text/plain": [
       "<IPython.core.display.Javascript object>"
      ]
     },
     "metadata": {},
     "output_type": "display_data"
    }
   ],
   "source": [
    "NB_pipeline = Pipeline(\n",
    "    [\n",
    "        (\"tfidf\", TfidfVectorizer(stop_words=stop_words)),\n",
    "        (\"clf\", OneVsRestClassifier(MultinomialNB(fit_prior=True, class_prior=None))),\n",
    "    ]\n",
    ")"
   ]
  },
  {
   "cell_type": "code",
   "execution_count": 21,
   "metadata": {},
   "outputs": [
    {
     "name": "stdout",
     "output_type": "stream",
     "text": [
      "toxic\n",
      "Accuracy 0.9192350785240889\n",
      "severe_toxic\n",
      "Accuracy 0.9900112041626312\n",
      "obscene\n",
      "Accuracy 0.9515752293055318\n",
      "threat\n",
      "Accuracy 0.9971135038644866\n",
      "insult\n",
      "Accuracy 0.9517271501547694\n",
      "identity_hate\n",
      "Accuracy 0.9910556600011394\n"
     ]
    },
    {
     "data": {
      "application/javascript": [
       "\n",
       "            setTimeout(function() {\n",
       "                var nbb_cell_id = 21;\n",
       "                var nbb_unformatted_code = \"for category in categories:\\n    print('{}'.format(category))\\n    NB_pipeline.fit(X_train, train[category])\\n    prediction = NB_pipeline.predict(X_test)\\n    print('Accuracy {}'.format(accuracy_score(test[category], prediction)))\";\n",
       "                var nbb_formatted_code = \"for category in categories:\\n    print(\\\"{}\\\".format(category))\\n    NB_pipeline.fit(X_train, train[category])\\n    prediction = NB_pipeline.predict(X_test)\\n    print(\\\"Accuracy {}\\\".format(accuracy_score(test[category], prediction)))\";\n",
       "                var nbb_cells = Jupyter.notebook.get_cells();\n",
       "                for (var i = 0; i < nbb_cells.length; ++i) {\n",
       "                    if (nbb_cells[i].input_prompt_number == nbb_cell_id) {\n",
       "                        if (nbb_cells[i].get_text() == nbb_unformatted_code) {\n",
       "                             nbb_cells[i].set_text(nbb_formatted_code);\n",
       "                        }\n",
       "                        break;\n",
       "                    }\n",
       "                }\n",
       "            }, 500);\n",
       "            "
      ],
      "text/plain": [
       "<IPython.core.display.Javascript object>"
      ]
     },
     "metadata": {},
     "output_type": "display_data"
    }
   ],
   "source": [
    "for category in categories:\n",
    "    print(\"{}\".format(category))\n",
    "    NB_pipeline.fit(X_train, train[category])\n",
    "    prediction = NB_pipeline.predict(X_test)\n",
    "    print(\"Accuracy {}\".format(accuracy_score(test[category], prediction)))"
   ]
  },
  {
   "cell_type": "code",
   "execution_count": 20,
   "metadata": {
    "collapsed": true
   },
   "outputs": [
    {
     "data": {
      "text/plain": [
       "29614     sockpuppetry case you have been accused of soc...\n",
       "109036    i have read the archives and various national ...\n",
       "110790    wikipedia is an encyclopedia yes lyrics which ...\n",
       "80583     such as when you mention â azeris are genetica...\n",
       "30047     werdna rfa hi i am still slightly wet behind t...\n",
       "55148     will would you say that beverly hills high sch...\n",
       "109908    this article appears to have a motto spot and ...\n",
       "96489     clement freud should clem freud be included in...\n",
       "148494    well first off murphy is not allowed to edit h...\n",
       "131011    to edit please create an account and log indue...\n",
       "58919     what are you like the owner of this site reall...\n",
       "149754                              am a huge ass and lameo\n",
       "30354          repent bastard 666 2x above holy 333 trinity\n",
       "129718    you turd burgling stalinist get some talent or...\n",
       "124215    hispanic what the hell do hispanics have to do...\n",
       "14732     link to the historical author of anong bahumon...\n",
       "835       words of encouragement to user damemk in the c...\n",
       "131485    hopefully smalljim will be arrested along with...\n",
       "114802                 funny go away and cry to your mother\n",
       "99517     hi there i was not aware of the anime one does...\n",
       "105625    you suck even if you stupid admins checkusers ...\n",
       "15599     katie simms currently lives in cononley a smal...\n",
       "133419    featured on mediawiki march 14 selected annive...\n",
       "16779     chris you are one to talk you are the dick str...\n",
       "52356     outdent he he shhhh on me being a crazy dude a...\n",
       "108800    well i do not know about that here what katefa...\n",
       "88105     years in jazz articles hello i see that you ha...\n",
       "122627    i did not know that earlier it was protected t...\n",
       "56351     aurorion you have not attempted to constructiv...\n",
       "43417     my ip is currently blocked zoe erased remarks ...\n",
       "                                ...                        \n",
       "65725              i did not even revert your edit that was\n",
       "123855    do not you have someone else to bother 19 13 8...\n",
       "2747      also you were involved in the initial edit war...\n",
       "130523    ethical i wonder if breastfeeding an adult is ...\n",
       "149503    rooster teeth productions hey i was just wonde...\n",
       "122537    i reject your reality and substitute my own pl...\n",
       "84478     the use of sic is grossly overused it normally...\n",
       "156730    because a redirect is the appropriate solution...\n",
       "130608    sounds like a plan as for the extant descripti...\n",
       "85305                                i hate eekster he icky\n",
       "103355    a barnstar for you the editor barnstar eocypse...\n",
       "5311      read template infobox album you are only suppo...\n",
       "64925     hi bzuk unfortunately you started an edit war ...\n",
       "59735     links some news links for expanding this artic...\n",
       "769       for evidence please make sure you make yoursel...\n",
       "64820     yes they were hitler stated that slavs were le...\n",
       "67221     sounds good could you mention it on wp vp i am...\n",
       "41090     vocalizations is a rare word for me and not ve...\n",
       "16023     new article hi himalayan explorer i have draft...\n",
       "126324    wikiproject united states class b importance l...\n",
       "112727    hello i introduced a tag to that particular cl...\n",
       "87498     izanbardprince i am izanbardprince i forgot to...\n",
       "137337    speedy deletion of h2o clan a tag has been pla...\n",
       "54886     image source problem with image visuel2 jpg th...\n",
       "110268    arrangements there is no list of arrangements ...\n",
       "119879    redirect talk john loveday experimental physicist\n",
       "103694     back it up post the line here with the reference\n",
       "131932    i wo not stop that sometimes germanic equals g...\n",
       "146867    british bands i think you have mistaken scotti...\n",
       "121958    you are wrong justin thompson is mentioned in ...\n",
       "Name: comment_text, Length: 106912, dtype: object"
      ]
     },
     "execution_count": 20,
     "metadata": {},
     "output_type": "execute_result"
    },
    {
     "data": {
      "application/javascript": [
       "\n",
       "            setTimeout(function() {\n",
       "                var nbb_cell_id = 20;\n",
       "                var nbb_unformatted_code = \"X_train\";\n",
       "                var nbb_formatted_code = \"X_train\";\n",
       "                var nbb_cells = Jupyter.notebook.get_cells();\n",
       "                for (var i = 0; i < nbb_cells.length; ++i) {\n",
       "                    if (nbb_cells[i].input_prompt_number == nbb_cell_id) {\n",
       "                        if (nbb_cells[i].get_text() == nbb_unformatted_code) {\n",
       "                             nbb_cells[i].set_text(nbb_formatted_code);\n",
       "                        }\n",
       "                        break;\n",
       "                    }\n",
       "                }\n",
       "            }, 500);\n",
       "            "
      ],
      "text/plain": [
       "<IPython.core.display.Javascript object>"
      ]
     },
     "metadata": {},
     "output_type": "display_data"
    }
   ],
   "source": [
    "X_train"
   ]
  },
  {
   "cell_type": "code",
   "execution_count": 24,
   "metadata": {},
   "outputs": [
    {
     "data": {
      "application/javascript": [
       "\n",
       "            setTimeout(function() {\n",
       "                var nbb_cell_id = 24;\n",
       "                var nbb_unformatted_code = \"SVC_pipeline = Pipeline(\\n    [\\n        (\\\"tfidf\\\", TfidfVectorizer(stop_words=stop_words)),\\n        (\\\"clf\\\", OneVsRestClassifier(LinearSVC(), n_jobs=1)),\\n    ]\\n)\";\n",
       "                var nbb_formatted_code = \"SVC_pipeline = Pipeline(\\n    [\\n        (\\\"tfidf\\\", TfidfVectorizer(stop_words=stop_words)),\\n        (\\\"clf\\\", OneVsRestClassifier(LinearSVC(), n_jobs=1)),\\n    ]\\n)\";\n",
       "                var nbb_cells = Jupyter.notebook.get_cells();\n",
       "                for (var i = 0; i < nbb_cells.length; ++i) {\n",
       "                    if (nbb_cells[i].input_prompt_number == nbb_cell_id) {\n",
       "                        if (nbb_cells[i].get_text() == nbb_unformatted_code) {\n",
       "                             nbb_cells[i].set_text(nbb_formatted_code);\n",
       "                        }\n",
       "                        break;\n",
       "                    }\n",
       "                }\n",
       "            }, 500);\n",
       "            "
      ],
      "text/plain": [
       "<IPython.core.display.Javascript object>"
      ]
     },
     "metadata": {},
     "output_type": "display_data"
    }
   ],
   "source": [
    "SVC_pipeline = Pipeline(\n",
    "    [\n",
    "        (\"tfidf\", TfidfVectorizer(stop_words=stop_words)),\n",
    "        (\"clf\", OneVsRestClassifier(LinearSVC(), n_jobs=1)),\n",
    "    ]\n",
    ")"
   ]
  },
  {
   "cell_type": "code",
   "execution_count": 25,
   "metadata": {},
   "outputs": [
    {
     "name": "stdout",
     "output_type": "stream",
     "text": [
      "toxic\n",
      "Accuracy 0.9600068364382157\n",
      "severe_toxic\n",
      "Accuracy 0.9906948479842003\n",
      "obscene\n",
      "Accuracy 0.9788830019559809\n",
      "threat\n",
      "Accuracy 0.9974363356691164\n",
      "insult\n",
      "Accuracy 0.971135038644866\n",
      "identity_hate\n",
      "Accuracy 0.9919861752027194\n"
     ]
    },
    {
     "data": {
      "application/javascript": [
       "\n",
       "            setTimeout(function() {\n",
       "                var nbb_cell_id = 25;\n",
       "                var nbb_unformatted_code = \"for category in categories:\\n    print(\\\"{}\\\".format(category))\\n    SVC_pipeline.fit(X_train, train[category])\\n    prediction = SVC_pipeline.predict(X_test)\\n    print(\\\"Accuracy {}\\\".format(accuracy_score(test[category], prediction)))\";\n",
       "                var nbb_formatted_code = \"for category in categories:\\n    print(\\\"{}\\\".format(category))\\n    SVC_pipeline.fit(X_train, train[category])\\n    prediction = SVC_pipeline.predict(X_test)\\n    print(\\\"Accuracy {}\\\".format(accuracy_score(test[category], prediction)))\";\n",
       "                var nbb_cells = Jupyter.notebook.get_cells();\n",
       "                for (var i = 0; i < nbb_cells.length; ++i) {\n",
       "                    if (nbb_cells[i].input_prompt_number == nbb_cell_id) {\n",
       "                        if (nbb_cells[i].get_text() == nbb_unformatted_code) {\n",
       "                             nbb_cells[i].set_text(nbb_formatted_code);\n",
       "                        }\n",
       "                        break;\n",
       "                    }\n",
       "                }\n",
       "            }, 500);\n",
       "            "
      ],
      "text/plain": [
       "<IPython.core.display.Javascript object>"
      ]
     },
     "metadata": {},
     "output_type": "display_data"
    }
   ],
   "source": [
    "for category in categories:\n",
    "    print(\"{}\".format(category))\n",
    "    SVC_pipeline.fit(X_train, train[category])\n",
    "    prediction = SVC_pipeline.predict(X_test)\n",
    "    print(\"Accuracy {}\".format(accuracy_score(test[category], prediction)))"
   ]
  },
  {
   "cell_type": "code",
   "execution_count": 26,
   "metadata": {},
   "outputs": [
    {
     "data": {
      "application/javascript": [
       "\n",
       "            setTimeout(function() {\n",
       "                var nbb_cell_id = 26;\n",
       "                var nbb_unformatted_code = \"LogReg_pipeline = Pipeline([\\n                ('tfidf', TfidfVectorizer(stop_words=stop_words)),\\n                ('clf', OneVsRestClassifier(LogisticRegression(solver='sag'), n_jobs=1)),\\n            ])\";\n",
       "                var nbb_formatted_code = \"LogReg_pipeline = Pipeline(\\n    [\\n        (\\\"tfidf\\\", TfidfVectorizer(stop_words=stop_words)),\\n        (\\\"clf\\\", OneVsRestClassifier(LogisticRegression(solver=\\\"sag\\\"), n_jobs=1)),\\n    ]\\n)\";\n",
       "                var nbb_cells = Jupyter.notebook.get_cells();\n",
       "                for (var i = 0; i < nbb_cells.length; ++i) {\n",
       "                    if (nbb_cells[i].input_prompt_number == nbb_cell_id) {\n",
       "                        if (nbb_cells[i].get_text() == nbb_unformatted_code) {\n",
       "                             nbb_cells[i].set_text(nbb_formatted_code);\n",
       "                        }\n",
       "                        break;\n",
       "                    }\n",
       "                }\n",
       "            }, 500);\n",
       "            "
      ],
      "text/plain": [
       "<IPython.core.display.Javascript object>"
      ]
     },
     "metadata": {},
     "output_type": "display_data"
    }
   ],
   "source": [
    "LogReg_pipeline = Pipeline(\n",
    "    [\n",
    "        (\"tfidf\", TfidfVectorizer(stop_words=stop_words)),\n",
    "        (\"clf\", OneVsRestClassifier(LogisticRegression(solver=\"sag\"), n_jobs=1)),\n",
    "    ]\n",
    ")"
   ]
  },
  {
   "cell_type": "code",
   "execution_count": 27,
   "metadata": {},
   "outputs": [
    {
     "name": "stdout",
     "output_type": "stream",
     "text": [
      "toxic\n",
      "Accuracy 0.9548415275641391\n",
      "severe_toxic\n",
      "Accuracy 0.9910746501072941\n",
      "obscene\n",
      "Accuracy 0.9760724662450863\n",
      "threat\n",
      "Accuracy 0.9973603752444976\n",
      "insult\n",
      "Accuracy 0.9687422852693747\n",
      "identity_hate\n",
      "Accuracy 0.991758293928863\n"
     ]
    },
    {
     "data": {
      "application/javascript": [
       "\n",
       "            setTimeout(function() {\n",
       "                var nbb_cell_id = 27;\n",
       "                var nbb_unformatted_code = \"for category in categories:\\n    print(\\\"{}\\\".format(category))\\n    LogReg_pipeline.fit(X_train, train[category])\\n    prediction = LogReg_pipeline.predict(X_test)\\n    print(\\\"Accuracy {}\\\".format(accuracy_score(test[category], prediction)))\";\n",
       "                var nbb_formatted_code = \"for category in categories:\\n    print(\\\"{}\\\".format(category))\\n    LogReg_pipeline.fit(X_train, train[category])\\n    prediction = LogReg_pipeline.predict(X_test)\\n    print(\\\"Accuracy {}\\\".format(accuracy_score(test[category], prediction)))\";\n",
       "                var nbb_cells = Jupyter.notebook.get_cells();\n",
       "                for (var i = 0; i < nbb_cells.length; ++i) {\n",
       "                    if (nbb_cells[i].input_prompt_number == nbb_cell_id) {\n",
       "                        if (nbb_cells[i].get_text() == nbb_unformatted_code) {\n",
       "                             nbb_cells[i].set_text(nbb_formatted_code);\n",
       "                        }\n",
       "                        break;\n",
       "                    }\n",
       "                }\n",
       "            }, 500);\n",
       "            "
      ],
      "text/plain": [
       "<IPython.core.display.Javascript object>"
      ]
     },
     "metadata": {},
     "output_type": "display_data"
    }
   ],
   "source": [
    "for category in categories:\n",
    "    print(\"{}\".format(category))\n",
    "    LogReg_pipeline.fit(X_train, train[category])\n",
    "    prediction = LogReg_pipeline.predict(X_test)\n",
    "    print(\"Accuracy {}\".format(accuracy_score(test[category], prediction)))"
   ]
  }
 ],
 "metadata": {
  "kernelspec": {
   "display_name": "Python 3",
   "language": "python",
   "name": "python3"
  },
  "language_info": {
   "codemirror_mode": {
    "name": "ipython",
    "version": 3
   },
   "file_extension": ".py",
   "mimetype": "text/x-python",
   "name": "python",
   "nbconvert_exporter": "python",
   "pygments_lexer": "ipython3",
   "version": "3.7.3"
  }
 },
 "nbformat": 4,
 "nbformat_minor": 2
}
